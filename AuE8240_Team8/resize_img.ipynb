{
 "cells": [
  {
   "cell_type": "code",
   "execution_count": 24,
   "metadata": {},
   "outputs": [],
   "source": [
    "import numpy as np\n",
    "import cv2\n",
    "import glob\n",
    "import matplotlib.pyplot as plt\n",
    "%matplotlib inline\n",
    "from keras.preprocessing import image"
   ]
  },
  {
   "cell_type": "code",
   "execution_count": 13,
   "metadata": {},
   "outputs": [],
   "source": [
    "images = glob.glob('data/negative_image/*.jpg')"
   ]
  },
  {
   "cell_type": "code",
   "execution_count": 14,
   "metadata": {},
   "outputs": [],
   "source": [
    "n = 0\n",
    "for fname in images:\n",
    "    img = cv2.imread(fname)\n",
    "    img = cv2.resize(img,(640,480), interpolation = cv2.INTER_AREA)\n",
    "    n +=1\n",
    "    image_name ='data/train/negative/' + str(n) +'.jpg'\n",
    "    cv2.imwrite(image_name, img)"
   ]
  },
  {
   "cell_type": "code",
   "execution_count": 25,
   "metadata": {},
   "outputs": [],
   "source": [
    "images2 = glob.glob('data/negative_image/*.jpg')"
   ]
  },
  {
   "cell_type": "code",
   "execution_count": 26,
   "metadata": {},
   "outputs": [],
   "source": [
    "m = 0\n",
    "for fname in images2:\n",
    "    img = cv2.imread(fname)\n",
    "    img = cv2.resize(img,(100,100), interpolation = cv2.INTER_AREA)\n",
    "    m +=1\n",
    "    image_name ='data/train2/negative/' + str(m) +'.jpg'\n",
    "    cv2.imwrite(image_name, img)"
   ]
  },
  {
   "cell_type": "code",
   "execution_count": 27,
   "metadata": {},
   "outputs": [],
   "source": [
    "images3 = glob.glob('data/negative_image/*.jpg')"
   ]
  },
  {
   "cell_type": "code",
   "execution_count": 28,
   "metadata": {},
   "outputs": [],
   "source": [
    "m = 0\n",
    "for fname in images3:\n",
    "    img = cv2.imread(fname)\n",
    "    img = cv2.resize(img,(300,300), interpolation = cv2.INTER_AREA)\n",
    "    m +=1\n",
    "    image_name ='data/train3/negative/' + str(m) +'.jpg'\n",
    "    cv2.imwrite(image_name, img)"
   ]
  },
  {
   "cell_type": "code",
   "execution_count": null,
   "metadata": {},
   "outputs": [],
   "source": []
  }
 ],
 "metadata": {
  "kernelspec": {
   "display_name": "Tensorflow",
   "language": "python",
   "name": "tf36"
  },
  "language_info": {
   "codemirror_mode": {
    "name": "ipython",
    "version": 3
   },
   "file_extension": ".py",
   "mimetype": "text/x-python",
   "name": "python",
   "nbconvert_exporter": "python",
   "pygments_lexer": "ipython3",
   "version": "3.6.10"
  }
 },
 "nbformat": 4,
 "nbformat_minor": 2
}
